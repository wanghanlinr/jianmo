{
 "cells": [
  {
   "cell_type": "code",
   "execution_count": 117,
   "id": "15552493-2211-4784-a907-1b69f4f8fac6",
   "metadata": {},
   "outputs": [],
   "source": [
    "import numpy as np\n",
    "from scipy.optimize import minimize\n",
    "from scipy.spatial import distance\n",
    "\n",
    "np.set_printoptions(suppress=True)\n",
    "\n",
    "# 输入数据：监测设备的坐标和音爆抵达时间\n",
    "coordinates = np.array([\n",
    "    [110.241, 27.204, 824],\n",
    "    [110.783, 27.456, 727],\n",
    "    [110.762, 27.785, 742],\n",
    "    [110.251, 28.025, 850],\n",
    "    [110.524, 27.617, 786],\n",
    "    [110.467, 28.081, 678],\n",
    "    [110.047, 27.521, 575]\n",
    "])\n",
    "\n",
    "times = np.array([\n",
    "    [100.9969, 164.3285, 215.0204, 269.9405],\n",
    "    [92.3732, 112.4155, 169.2391, 196.6410],\n",
    "    [75.6026, 110.9256, 157.0931, 188.0066],\n",
    "    [94.5149, 141.4326, 196.3888, 258.9108],\n",
    "    [78.7256,  86.0353, 118.6576, 126.8344],\n",
    "    [67.1515, 166.0946, 175.4070, 266.9136],\n",
    "    [103.7410, 162.9028, 206.6373, 210.3309]\n",
    "])\n",
    "\n",
    "\n"
   ]
  },
  {
   "cell_type": "code",
   "execution_count": 118,
   "id": "7e893f73-9244-444d-93b7-7b1769ad86b8",
   "metadata": {},
   "outputs": [],
   "source": [
    "\n",
    "\n",
    "speed_of_sound = 340  # 声速，单位：米/秒\n",
    "def haversine_distance(lat1, lon1, lat2, lon2, elevation1, elevation2):\n",
    "    R = 6371000  # 地球半径，单位：米\n",
    "    lat1, lon1, lat2, lon2 = map(np.radians, [lat1, lon1, lat2, lon2])\n",
    "    delta_lat = lat2 - lat1\n",
    "    delta_lon = lon2 - lon1\n",
    "    a = np.sin(delta_lat / 2.0)**2 + np.cos(lat1) * np.cos(lat2) * np.sin(delta_lon / 2.0)**2\n",
    "    c = 2 * np.arctan2(np.sqrt(a), np.sqrt(1 - a))\n",
    "    horizontal_distance = R * c\n",
    "    vertical_distance = elevation2 - elevation1\n",
    "    distance = np.sqrt(horizontal_distance**2 + vertical_distance**2)\n",
    "    return distance\n",
    "\n",
    "def objective(x):\n",
    "    residuals = []\n",
    "    for i in range(len(coordinates)):\n",
    "        for j in range(4):  # 四个音爆事件\n",
    "            # x中包含所有音爆的经度、纬度、高程和时间\n",
    "            index = 4 * j\n",
    "            lon, lat, ele, t0 = x[index:index+4]\n",
    "            dist = haversine_distance(lat, lon, coordinates[i, 1], coordinates[i, 0], ele, coordinates[i, 2])\n",
    "            predicted_time = dist / speed_of_sound + t0\n",
    "            residuals.append((predicted_time - times[i, j])**2)\n",
    "    return sum(residuals)\n"
   ]
  },
  {
   "cell_type": "code",
   "execution_count": 119,
   "id": "16607b77-baff-451b-8894-395a20e8293f",
   "metadata": {},
   "outputs": [
    {
     "name": "stdout",
     "output_type": "stream",
     "text": [
      "Optimization successful.\n",
      "Optimized values:\n"
     ]
    },
    {
     "data": {
      "text/plain": [
       "array([110.53779996,  27.94783481, 740.28760802,  -2.94687516,\n",
       "       110.53227339,  27.7133995 , 740.28571429,  -1.65106139,\n",
       "       110.56092896,  28.20618503, 740.28392525,  -1.30645487,\n",
       "       110.73513878,  27.35342774, 740.28795334,  -0.17324655])"
      ]
     },
     "execution_count": 119,
     "metadata": {},
     "output_type": "execute_result"
    }
   ],
   "source": [
    "from scipy.optimize import minimize, Bounds\n",
    "from functools import partial\n",
    "# 定义合理的高程和时间约束\n",
    "bounds = Bounds(\n",
    "    [110, 27, 0, -200] * 4,  # 每个参数的下界\n",
    "    [111, 29, 2000, 200] * 4  # 每个参数的上界\n",
    ")\n",
    "# 构建每对时间差不超过5秒的约束\n",
    "def time_diff_constraint(x, i, j):\n",
    "    return 5 - abs(x[4*i+3] - x[4*j+3])\n",
    "# 列表生成所有时间差约束\n",
    "cons = (\n",
    "    {'type': 'ineq', 'fun': partial(time_diff_constraint, i=i, j=j)} for i in range(4) for j in range(i+1, 4)\n",
    ")\n",
    "# 使用更精细的初始猜测\n",
    "initial_guess = []\n",
    "avg_time = np.mean(times, axis=1)  # 每个设备的平均记录时间作为参考\n",
    "for j in range(4):  # 四个音爆\n",
    "    # 使用数据中心位置和时间的平均值作为初始猜测\n",
    "    mean_lon = np.mean(coordinates[:, 0])\n",
    "    mean_lat = np.mean(coordinates[:, 1])\n",
    "    mean_ele = np.mean(coordinates[:, 2])\n",
    "    mean_time = np.mean(avg_time) +1 * j  \n",
    "    initial_guess.extend([mean_lon, mean_lat, mean_ele, mean_time])\n",
    "# 使用带约束的优化方法\n",
    "result = minimize(\n",
    "    objective, \n",
    "    initial_guess, \n",
    "    method='SLSQP',\n",
    "    bounds=bounds,\n",
    "    constraints=cons,\n",
    "    options={'maxiter': 1000}\n",
    ")\n",
    "# 检查优化结果\n",
    "if result.success:\n",
    "    print(\"Optimization successful.\")\n",
    "    print(\"Optimized values:\")\n",
    "else:\n",
    "    print(\"Optimization failed.\")\n",
    "    print(\"Reason:\", result.message)\n",
    "result.x"
   ]
  },
  {
   "cell_type": "code",
   "execution_count": null,
   "id": "8c5d373f-5b2b-4b73-9b6f-6aa0c3de6b01",
   "metadata": {},
   "outputs": [],
   "source": []
  },
  {
   "cell_type": "code",
   "execution_count": null,
   "id": "08423a09-00c2-47b7-8207-cc061e39d08d",
   "metadata": {},
   "outputs": [],
   "source": []
  }
 ],
 "metadata": {
  "kernelspec": {
   "display_name": "Python 3 (Bundle)",
   "language": "python",
   "name": "pyb"
  },
  "language_info": {
   "codemirror_mode": {
    "name": "ipython",
    "version": 3
   },
   "file_extension": ".py",
   "mimetype": "text/x-python",
   "name": "python",
   "nbconvert_exporter": "python",
   "pygments_lexer": "ipython3",
   "version": "3.8.10"
  }
 },
 "nbformat": 4,
 "nbformat_minor": 5
}
